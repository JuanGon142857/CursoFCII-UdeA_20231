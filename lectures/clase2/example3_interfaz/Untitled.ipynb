{
 "cells": [
  {
   "cell_type": "code",
   "execution_count": 1,
   "id": "83385228",
   "metadata": {},
   "outputs": [
    {
     "name": "stdout",
     "output_type": "stream",
     "text": [
      "a.out  Cursoname03_13.cpp  Cursoname.cpp  Cursoname.h  Untitled.ipynb\r\n"
     ]
    }
   ],
   "source": [
    "!ls\n"
   ]
  },
  {
   "cell_type": "code",
   "execution_count": 2,
   "id": "34655a54",
   "metadata": {},
   "outputs": [
    {
     "name": "stdout",
     "output_type": "stream",
     "text": [
      "Using built-in specs.\r\n",
      "COLLECT_GCC=g++\r\n",
      "COLLECT_LTO_WRAPPER=/usr/lib/gcc/x86_64-linux-gnu/9/lto-wrapper\r\n",
      "OFFLOAD_TARGET_NAMES=nvptx-none:hsa\r\n",
      "OFFLOAD_TARGET_DEFAULT=1\r\n",
      "Target: x86_64-linux-gnu\r\n",
      "Configured with: ../src/configure -v --with-pkgversion='Ubuntu 9.3.0-17ubuntu1~20.04' --with-bugurl=file:///usr/share/doc/gcc-9/README.Bugs --enable-languages=c,ada,c++,go,brig,d,fortran,objc,obj-c++,gm2 --prefix=/usr --with-gcc-major-version-only --program-suffix=-9 --program-prefix=x86_64-linux-gnu- --enable-shared --enable-linker-build-id --libexecdir=/usr/lib --without-included-gettext --enable-threads=posix --libdir=/usr/lib --enable-nls --enable-clocale=gnu --enable-libstdcxx-debug --enable-libstdcxx-time=yes --with-default-libstdcxx-abi=new --enable-gnu-unique-object --disable-vtable-verify --enable-plugin --enable-default-pie --with-system-zlib --with-target-system-zlib=auto --enable-objc-gc=auto --enable-multiarch --disable-werror --with-arch-32=i686 --with-abi=m64 --with-multilib-list=m32,m64,mx32 --enable-multilib --with-tune=generic --enable-offload-targets=nvptx-none=/build/gcc-9-HskZEa/gcc-9-9.3.0/debian/tmp-nvptx/usr,hsa --without-cuda-driver --enable-checking=release --build=x86_64-linux-gnu --host=x86_64-linux-gnu --target=x86_64-linux-gnu\r\n",
      "Thread model: posix\r\n",
      "gcc version 9.3.0 (Ubuntu 9.3.0-17ubuntu1~20.04) \r\n"
     ]
    }
   ],
   "source": [
    "!g++ -v"
   ]
  },
  {
   "cell_type": "code",
   "execution_count": 1,
   "id": "5d046eeb",
   "metadata": {},
   "outputs": [],
   "source": [
    "!g++ Cursoname.cpp Cursoname.h Cursoname03_13.cpp\n"
   ]
  },
  {
   "cell_type": "code",
   "execution_count": 2,
   "id": "c66d3e47",
   "metadata": {},
   "outputs": [
    {
     "name": "stdout",
     "output_type": "stream",
     "text": [
      "libroCalificar1 creado para el  curso: Introduction to C++ Programming\r\n",
      "libroCalificar2 creado para el  curso: metodos computacionales II\r\n"
     ]
    }
   ],
   "source": [
    "!./a.out\n"
   ]
  },
  {
   "cell_type": "code",
   "execution_count": null,
   "id": "5eb59f70",
   "metadata": {},
   "outputs": [],
   "source": []
  }
 ],
 "metadata": {
  "kernelspec": {
   "display_name": "Python 3 (ipykernel)",
   "language": "python",
   "name": "python3"
  },
  "language_info": {
   "codemirror_mode": {
    "name": "ipython",
    "version": 3
   },
   "file_extension": ".py",
   "mimetype": "text/x-python",
   "name": "python",
   "nbconvert_exporter": "python",
   "pygments_lexer": "ipython3",
   "version": "3.8.10"
  }
 },
 "nbformat": 4,
 "nbformat_minor": 5
}
